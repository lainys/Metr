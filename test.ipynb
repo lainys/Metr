{
 "cells": [
  {
   "cell_type": "markdown",
   "metadata": {
    "collapsed": true
   },
   "source": [
    "#Лабораторная работа №1\n",
    "##Моделирование экспериментов по измерению скорости пули\n",
    "###1. Стрельба строго в горизонтальном направлении с измерением дальности полета пули\n",
    "####Уравнение координаты x(t)\n",
    "$$x = {x_{0} + V_{0x}t + {a_{x}t^{2} \\over 2}}$$\n",
    "$$\\frac {a}{b} $$\n",
    "###2. Стрельба в ящик с песком на жестком подвесе с измерением угла отклонения\n",
    "$$x_{1,2} = {-b\\pm\\sqrt{b^2 - 4ac} \\over 2a }.$$\n",
    "\n",
    "###3. Измерение скорости пули, выпущенной в груз, стоящий на поверхности"
   ]
  }
 ],
 "metadata": {
  "kernelspec": {
   "display_name": "Python 2",
   "language": "python",
   "name": "python2"
  },
  "language_info": {
   "codemirror_mode": {
    "name": "ipython",
    "version": 2
   },
   "file_extension": ".py",
   "mimetype": "text/x-python",
   "name": "python",
   "nbconvert_exporter": "python",
   "pygments_lexer": "ipython2",
   "version": "2.7.6"
  }
 },
 "nbformat": 4,
 "nbformat_minor": 0
}
